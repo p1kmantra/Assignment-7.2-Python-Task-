{
 "cells": [
  {
   "cell_type": "markdown",
   "id": "c6723867-f67d-4d7e-b9f3-5422baeafdb5",
   "metadata": {},
   "source": [
    "Q.1.You are writing code for a company. The requirement of the company is that you create a python \n",
    "function that will check whether the password entered by the user is correct or not. The function should \n",
    "take the password as input and return the string “Valid Password” if the entered password follows the \n",
    "below-given password guidelines else it should return “Invalid Password”.\n",
    "Note: 1. The Password should contain at least two uppercase letters and at least two lowercase letters.\n",
    "\n",
    "2. The Password should contain at least a number and three special characters.\n",
    "\n",
    "3. The length of the password should be 10 characters long."
   ]
  },
  {
   "cell_type": "code",
   "execution_count": null,
   "id": "d4b2b2a4-ddbd-4043-b070-03baa504db4e",
   "metadata": {},
   "outputs": [],
   "source": []
  },
  {
   "cell_type": "code",
   "execution_count": 3,
   "id": "fbe4e913-7b0c-4c6f-ac4d-c395b0313bb1",
   "metadata": {},
   "outputs": [
    {
     "name": "stdin",
     "output_type": "stream",
     "text": [
      "enter your pasword 23@#dfAZ00\n"
     ]
    },
    {
     "name": "stdout",
     "output_type": "stream",
     "text": [
      "invalid password\n"
     ]
    }
   ],
   "source": [
    "import re\n",
    "result =0\n",
    "password=input(\"enter your pasword\")\n",
    "\n",
    "if not re.search ('[a-z]',password):\n",
    "    result=1\n",
    "if not re.search ('[A-z]',password):\n",
    "    result=1\n",
    "if not re.search ('[0-9]',password):\n",
    "    result=1\n",
    "if not re.search('[!@#$%^&?]',password):\n",
    "    result=1\n",
    "if len(password)==10:\n",
    "    result=1\n",
    "if(result==0):\n",
    "    print(\"valid password\")\n",
    "else:\n",
    "    print(\"invalid password\")"
   ]
  },
  {
   "cell_type": "code",
   "execution_count": null,
   "id": "835c576e-fb5d-43b4-a746-2409f7bafed0",
   "metadata": {},
   "outputs": [],
   "source": []
  },
  {
   "cell_type": "markdown",
   "id": "8c19a9ef-a003-471d-8ff0-74b0fb67105a",
   "metadata": {},
   "source": [
    "Q.2.Solve the below-given questions using at least one of the following: \n",
    "\n",
    "1. Lambda functioJ\n",
    "2. Filter functioJ\n",
    "3. Map functioJ\n",
    "4. List ComprehensioI\n",
    "B Check if the string starts with a particular letterY\n",
    "B Check if the string is numericY\n",
    "B Sort a list of tuples having fruit names and their quantity. [(\"mango\",99),(\"orange\",80), (\"grapes\", 1000)-\n",
    "B Find the squares of numbers from 1 to 10Y\n",
    "B Find the cube root of numbers from 1 to 10Y\n",
    "B Check if a given number is evenY\n",
    "B Filter odd numbers from the given list.\n",
    "\n",
    " [1,2,3,4,5,6,7,8,9,10-\n",
    "B Sort a list of integers into positive and negative integers lists.\n",
    "\n",
    " [1,2,3,4,5,6,-1,-2,-3,-4,-5,0]\n",
    " "
   ]
  },
  {
   "cell_type": "markdown",
   "id": "85900558-3eee-4c0b-a855-00bb305877e3",
   "metadata": {},
   "source": [
    "* Check if the string starts with a particular letter."
   ]
  },
  {
   "cell_type": "code",
   "execution_count": 1,
   "id": "47c75653-ce21-4a3a-9b63-822cde74f33b",
   "metadata": {},
   "outputs": [],
   "source": [
    "l=[\"pwskills class\",\"data science\",\"shudhanshu sir\",\"krish sir\",\"pwskillslab\"]"
   ]
  },
  {
   "cell_type": "code",
   "execution_count": 10,
   "id": "e616c484-eb6b-4ddf-b877-edbcefa3ba70",
   "metadata": {},
   "outputs": [
    {
     "data": {
      "text/plain": [
       "['pwskills class', 'pwskillslab']"
      ]
     },
     "execution_count": 10,
     "metadata": {},
     "output_type": "execute_result"
    }
   ],
   "source": [
    "list(filter(lambda x :x[0]==\"p\" ,l))"
   ]
  },
  {
   "cell_type": "markdown",
   "id": "6a3866e6-8a25-416e-9cb7-981bf53ccba8",
   "metadata": {},
   "source": [
    "* Check if the string is numeric"
   ]
  },
  {
   "cell_type": "code",
   "execution_count": 11,
   "id": "9ecd6196-7190-4306-9673-db058d855557",
   "metadata": {},
   "outputs": [],
   "source": [
    "l=[\"character\",\"numeric\",\"method\",\"123\",\"elgebra\",\"997\"]"
   ]
  },
  {
   "cell_type": "code",
   "execution_count": 14,
   "id": "06571f83-3684-40b5-ad36-581cf99ab27e",
   "metadata": {},
   "outputs": [],
   "source": [
    "num=1,2,3,4,5,6,7,8,9"
   ]
  },
  {
   "cell_type": "code",
   "execution_count": 15,
   "id": "5a61528d-776a-4869-8ea4-602bc7b5a199",
   "metadata": {},
   "outputs": [
    {
     "data": {
      "text/plain": [
       "[]"
      ]
     },
     "execution_count": 15,
     "metadata": {},
     "output_type": "execute_result"
    }
   ],
   "source": [
    "list(filter (lambda x:x==\"num\",l))"
   ]
  },
  {
   "cell_type": "markdown",
   "id": "7cd2235c-4761-48b2-96db-d42450de6bd7",
   "metadata": {},
   "source": [
    "*Sort a list of tuples having fruit names and their quantity. [(\"mango\",99),(\"orange\",80), (\"grapes\", 1000)-"
   ]
  },
  {
   "cell_type": "code",
   "execution_count": 20,
   "id": "99e0d359-2566-479a-b0db-4b7fbc519919",
   "metadata": {},
   "outputs": [],
   "source": [
    "d={\"mango\":99,\"orange\":80,\"grapes\":1000}"
   ]
  },
  {
   "cell_type": "code",
   "execution_count": 21,
   "id": "09f4cabc-5d5e-4225-9024-7dc493b0403e",
   "metadata": {},
   "outputs": [
    {
     "data": {
      "text/plain": [
       "{'mango': 99, 'orange': 80, 'grapes': 1000}"
      ]
     },
     "execution_count": 21,
     "metadata": {},
     "output_type": "execute_result"
    }
   ],
   "source": [
    "{k:v for k,v in d.items()}"
   ]
  },
  {
   "cell_type": "markdown",
   "id": "3c5e56da-d22c-4261-8c59-347e22fdae26",
   "metadata": {},
   "source": [
    "* Find the squares of numbers from 1 to 10"
   ]
  },
  {
   "cell_type": "code",
   "execution_count": 24,
   "id": "40d479c1-387a-4919-92ed-8e542e67559d",
   "metadata": {},
   "outputs": [],
   "source": [
    "l=range(1,11)"
   ]
  },
  {
   "cell_type": "code",
   "execution_count": 25,
   "id": "8f7f9168-1e63-491b-9d27-bbccf91f8208",
   "metadata": {},
   "outputs": [
    {
     "data": {
      "text/plain": [
       "[1, 4, 9, 16, 25, 36, 49, 64, 81, 100]"
      ]
     },
     "execution_count": 25,
     "metadata": {},
     "output_type": "execute_result"
    }
   ],
   "source": [
    "list(map(lambda x:x**2,l))"
   ]
  },
  {
   "cell_type": "markdown",
   "id": "bb7edc02-ff10-4a26-b649-0fa667594b7f",
   "metadata": {},
   "source": [
    "*Find the cube root of numbers from 1 to 10"
   ]
  },
  {
   "cell_type": "code",
   "execution_count": 2,
   "id": "ce2d9de1-a314-4f58-b47f-0f6e21e51077",
   "metadata": {},
   "outputs": [],
   "source": [
    "l1=range(1,11)"
   ]
  },
  {
   "cell_type": "code",
   "execution_count": 4,
   "id": "7ea23fb9-b286-45bf-87c9-ca50421db15b",
   "metadata": {},
   "outputs": [
    {
     "data": {
      "text/plain": [
       "[1, 8, 27, 64, 125, 216, 343, 512, 729, 1000]"
      ]
     },
     "execution_count": 4,
     "metadata": {},
     "output_type": "execute_result"
    }
   ],
   "source": [
    "list(map(lambda x:x**3,l1))"
   ]
  },
  {
   "cell_type": "markdown",
   "id": "7d3b1d7d-a8b0-4c1d-85fb-2f3c366ff658",
   "metadata": {},
   "source": [
    "*Check if a given number is even"
   ]
  },
  {
   "cell_type": "code",
   "execution_count": 5,
   "id": "0a63486c-3037-4dc3-9775-4b841a816977",
   "metadata": {},
   "outputs": [],
   "source": [
    "l=[66,77,88,43,78,87,99,100,777,]"
   ]
  },
  {
   "cell_type": "code",
   "execution_count": 6,
   "id": "06ec33ce-eef2-4ff7-b2a3-04a37b66a505",
   "metadata": {},
   "outputs": [
    {
     "data": {
      "text/plain": [
       "[66, 88, 78, 100]"
      ]
     },
     "execution_count": 6,
     "metadata": {},
     "output_type": "execute_result"
    }
   ],
   "source": [
    "[i for i in l if i%2==0]"
   ]
  },
  {
   "cell_type": "code",
   "execution_count": 7,
   "id": "dfe28eb5-e76b-4176-b657-efb234316007",
   "metadata": {},
   "outputs": [
    {
     "data": {
      "text/plain": [
       "[66, 88, 78, 100]"
      ]
     },
     "execution_count": 7,
     "metadata": {},
     "output_type": "execute_result"
    }
   ],
   "source": [
    "list(filter(lambda x:x%2==0,l))"
   ]
  },
  {
   "cell_type": "markdown",
   "id": "65f63053-7d8a-4844-9960-3535a7f3d357",
   "metadata": {},
   "source": [
    "*filter odd number fro the given list"
   ]
  },
  {
   "cell_type": "code",
   "execution_count": 8,
   "id": "8fa79e49-9184-42a0-aa0e-6cdb1a61d5c6",
   "metadata": {},
   "outputs": [],
   "source": [
    "l=[1,2,3,4,5,6,7,8,9,10]"
   ]
  },
  {
   "cell_type": "code",
   "execution_count": 9,
   "id": "0fa89c22-a64b-4e9c-b1b0-3a6c733e2c91",
   "metadata": {},
   "outputs": [
    {
     "data": {
      "text/plain": [
       "[1, 3, 5, 7, 9]"
      ]
     },
     "execution_count": 9,
     "metadata": {},
     "output_type": "execute_result"
    }
   ],
   "source": [
    "list(filter(lambda x:x%2 !=0,l))"
   ]
  },
  {
   "cell_type": "markdown",
   "id": "d359d62f-340c-4092-8c7b-d866d8a9d15a",
   "metadata": {},
   "source": [
    "*sort a list of integers into positive and negative integers lists"
   ]
  },
  {
   "cell_type": "code",
   "execution_count": 10,
   "id": "bfa1d594-c3b6-48ab-ba73-74e842c6fd31",
   "metadata": {},
   "outputs": [],
   "source": [
    "l=[1,2,3,4,5,6,-1,-2,-3,-4,-5,0]"
   ]
  },
  {
   "cell_type": "code",
   "execution_count": 11,
   "id": "da352420-7b1a-42cb-81ef-9e1e7bf5fa57",
   "metadata": {},
   "outputs": [
    {
     "data": {
      "text/plain": [
       "[1, 2, 3, 4, 5, 6]"
      ]
     },
     "execution_count": 11,
     "metadata": {},
     "output_type": "execute_result"
    }
   ],
   "source": [
    "list (filter(lambda x:x>0,l))"
   ]
  },
  {
   "cell_type": "code",
   "execution_count": 12,
   "id": "3c8abc99-bede-4f7e-a8cc-278e4a4825ca",
   "metadata": {},
   "outputs": [
    {
     "data": {
      "text/plain": [
       "[-1, -2, -3, -4, -5]"
      ]
     },
     "execution_count": 12,
     "metadata": {},
     "output_type": "execute_result"
    }
   ],
   "source": [
    "list(filter(lambda x :x<0,l))"
   ]
  },
  {
   "cell_type": "code",
   "execution_count": null,
   "id": "f8824c44-fa62-4cf0-bd98-80698c1de8a4",
   "metadata": {},
   "outputs": [],
   "source": []
  }
 ],
 "metadata": {
  "kernelspec": {
   "display_name": "Python 3 (ipykernel)",
   "language": "python",
   "name": "python3"
  },
  "language_info": {
   "codemirror_mode": {
    "name": "ipython",
    "version": 3
   },
   "file_extension": ".py",
   "mimetype": "text/x-python",
   "name": "python",
   "nbconvert_exporter": "python",
   "pygments_lexer": "ipython3",
   "version": "3.10.8"
  }
 },
 "nbformat": 4,
 "nbformat_minor": 5
}
